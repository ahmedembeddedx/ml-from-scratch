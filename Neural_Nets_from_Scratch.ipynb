{
  "nbformat": 4,
  "nbformat_minor": 0,
  "metadata": {
    "colab": {
      "provenance": [],
      "authorship_tag": "ABX9TyPxUHR99Lw0WG/BJrENVdNn",
      "include_colab_link": true
    },
    "kernelspec": {
      "name": "python3",
      "display_name": "Python 3"
    },
    "language_info": {
      "name": "python"
    }
  },
  "cells": [
    {
      "cell_type": "markdown",
      "metadata": {
        "id": "view-in-github",
        "colab_type": "text"
      },
      "source": [
        "<a href=\"https://colab.research.google.com/github/ahmedembeddedx/ml-from-scratch/blob/main/Neural_Nets_from_Scratch.ipynb\" target=\"_parent\"><img src=\"https://colab.research.google.com/assets/colab-badge.svg\" alt=\"Open In Colab\"/></a>"
      ]
    },
    {
      "cell_type": "code",
      "execution_count": 93,
      "metadata": {
        "id": "5Zbm3vGtvdcw"
      },
      "outputs": [],
      "source": [
        "import numpy as np\n",
        "from sklearn.datasets import load_breast_cancer\n",
        "import random\n",
        "from typing import List, Tuple, Dict, Union\n",
        "import pandas as pd"
      ]
    },
    {
      "cell_type": "code",
      "source": [
        "data = load_breast_cancer()"
      ],
      "metadata": {
        "id": "m-I_a6Yavhyb"
      },
      "execution_count": 2,
      "outputs": []
    },
    {
      "cell_type": "code",
      "source": [
        "def sigmoid(x):\n",
        "  a = 1/(1+np.exp(-x))\n",
        "  return a\n",
        "\n",
        "def cost(y, y_pred):\n",
        "  return (-y * np.log(y_pred)) + ((1 - y) * np.log(1 - y_pred))\n",
        "\n",
        "def loss_function(y, y_pred):\n",
        "\n",
        "  tc = 0\n",
        "  for i in range(len(y_pred)-1):\n",
        "    tc +=  cost(y[i], y_pred[i])\n",
        "\n",
        "  return tc/len(y_pred)\n",
        "\n",
        "def predict_y(weights, bias, x_params):\n",
        "  y = bias\n",
        "  for i in range(len(weights)-1):\n",
        "    y += (weights[i] * x_params[i])\n",
        "  return sigmoid(y)"
      ],
      "metadata": {
        "id": "kzLmoI6NvjK7"
      },
      "execution_count": 25,
      "outputs": []
    },
    {
      "cell_type": "code",
      "source": [
        "X = data['data']\n",
        "X = np.hstack((np.ones((X.shape[0], 1)), X))\n",
        "Y = data['target'].reshape(data['target'].shape[0],1)"
      ],
      "metadata": {
        "id": "kt9nCKrIvm7y"
      },
      "execution_count": 5,
      "outputs": []
    },
    {
      "cell_type": "code",
      "source": [
        "print(f\"X Shape: {X.shape}\")\n",
        "print(f\"Y Shape: {Y.shape}\")"
      ],
      "metadata": {
        "colab": {
          "base_uri": "https://localhost:8080/"
        },
        "id": "u_jrLjCfvsUc",
        "outputId": "286b43d6-0e8c-4132-bed3-ff1a59f6f29a"
      },
      "execution_count": 8,
      "outputs": [
        {
          "output_type": "stream",
          "name": "stdout",
          "text": [
            "X Shape: (569, 31)\n",
            "Y Shape: (569, 1)\n"
          ]
        }
      ]
    },
    {
      "cell_type": "code",
      "source": [
        "def neuron(m: int):\n",
        "  if(m < 0):\n",
        "    print('Unable to compute this layer')\n",
        "  weights = np.random.rand(m)\n",
        "  bias = np.random.rand(1)\n",
        "  a = 0.05\n",
        "  return {'weights':weights, 'bias':bias}\n",
        "\n",
        "def layer(n: int, m: int):\n",
        "  if(m < 0):\n",
        "    print('Unable to compute this layer')\n",
        "  li = []\n",
        "\n",
        "  for i in range(0, n):\n",
        "    li.append(neuron(m))\n",
        "  return li"
      ],
      "metadata": {
        "id": "PG3nCvScvtX5"
      },
      "execution_count": 73,
      "outputs": []
    },
    {
      "cell_type": "code",
      "source": [
        "l1 = layer(5, 3)\n",
        "\n",
        "for i in l1:\n",
        "  print(predict_y(i['weights'], i['bias'], X[0]))"
      ],
      "metadata": {
        "colab": {
          "base_uri": "https://localhost:8080/"
        },
        "id": "nGhKWJIzv7Eh",
        "outputId": "ac720167-f574-4e68-e12f-f38ae05b3d3f"
      },
      "execution_count": 66,
      "outputs": [
        {
          "output_type": "stream",
          "name": "stdout",
          "text": [
            "[0.98489862]\n",
            "[0.99893661]\n",
            "[0.99999998]\n",
            "[0.99996165]\n",
            "[0.99274829]\n"
          ]
        }
      ]
    },
    {
      "cell_type": "code",
      "source": [
        "def network(inputs: int, layers: int, neurons: List[int]):\n",
        "  ntw = []\n",
        "  if(layers != len(neurons)):\n",
        "    print('Unable to compute this network')\n",
        "    return ntw\n",
        "  else:\n",
        "    for i in range(0, layers):\n",
        "      l = layer(neurons[i], inputs)\n",
        "      ntw.append(l)\n",
        "\n",
        "    return ntw"
      ],
      "metadata": {
        "id": "Q6NSGbipyUeE"
      },
      "execution_count": 90,
      "outputs": []
    },
    {
      "cell_type": "code",
      "source": [
        "ntw = network(3, 5, [2, 3, 4, 2, 1])\n",
        "\n",
        "for i, j in zip(ntw, range(len(ntw))):\n",
        "  print(f'Layer {j+1}')\n",
        "  print(pd.DataFrame(i))\n",
        "  print()"
      ],
      "metadata": {
        "colab": {
          "base_uri": "https://localhost:8080/"
        },
        "id": "qZhd2KgC0XtX",
        "outputId": "939db481-3171-40e0-8e6a-1a5ca46db94d"
      },
      "execution_count": 96,
      "outputs": [
        {
          "output_type": "stream",
          "name": "stdout",
          "text": [
            "Layer 1\n",
            "                                             weights                  bias\n",
            "0  [0.10682990034335449, 0.5522706288963095, 0.10...  [0.8127355971992029]\n",
            "1  [0.9566953917429166, 0.21436587613673552, 0.65...  [0.8990637066399494]\n",
            "\n",
            "Layer 2\n",
            "                                             weights                   bias\n",
            "0  [0.06459171008631248, 0.17660463424845874, 0.9...   [0.8131580547962965]\n",
            "1  [0.3547021155140302, 0.17987509350751785, 0.58...  [0.48272697809901977]\n",
            "2  [0.7430301816161717, 0.4424212402465546, 0.304...   [0.3565700753144534]\n",
            "\n",
            "Layer 3\n",
            "                                             weights                  bias\n",
            "0  [0.26648404376598966, 0.7199774958906641, 0.99...  [0.2718561852828487]\n",
            "1  [0.5757851914273452, 0.26265962799964815, 0.79...   [0.336559995049065]\n",
            "2  [0.6014407165094144, 0.8675871426531893, 0.410...  [0.2239072342968862]\n",
            "3  [0.6641310627048185, 0.45360274585172966, 0.27...  [0.8461881389005245]\n",
            "\n",
            "Layer 4\n",
            "                                             weights                  bias\n",
            "0  [0.8185898713784561, 0.6187065616783812, 0.370...  [0.7072786487243689]\n",
            "1  [0.7743643429575362, 0.24422324674129714, 0.50...  [0.9666599254517517]\n",
            "\n",
            "Layer 5\n",
            "                                             weights                  bias\n",
            "0  [0.7309538324481711, 0.9151699210975865, 0.047...  [0.5660208322484915]\n",
            "\n"
          ]
        }
      ]
    },
    {
      "cell_type": "code",
      "source": [],
      "metadata": {
        "id": "Qdb6l0gx2MPF"
      },
      "execution_count": null,
      "outputs": []
    }
  ]
}